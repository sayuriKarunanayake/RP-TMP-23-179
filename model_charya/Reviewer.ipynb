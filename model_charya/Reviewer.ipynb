{
 "cells": [
  {
   "cell_type": "code",
   "execution_count": 43,
   "metadata": {},
   "outputs": [
    {
     "name": "stdout",
     "output_type": "stream",
     "text": [
      "Requirement already satisfied: keras in f:\\python projects\\charya\\lib\\site-packages (2.14.0)\n"
     ]
    },
    {
     "name": "stderr",
     "output_type": "stream",
     "text": [
      "\n",
      "[notice] A new release of pip is available: 23.1.2 -> 23.3.1\n",
      "[notice] To update, run: python.exe -m pip install --upgrade pip\n"
     ]
    }
   ],
   "source": [
    "!pip install keras"
   ]
  },
  {
   "cell_type": "code",
   "execution_count": 68,
   "metadata": {},
   "outputs": [],
   "source": [
    "import numpy as np\n",
    "import pandas as pd \n",
    "import matplotlib.pyplot as plt"
   ]
  },
  {
   "cell_type": "code",
   "execution_count": 69,
   "metadata": {},
   "outputs": [],
   "source": [
    "df = pd.read_csv('Book1.csv')"
   ]
  },
  {
   "cell_type": "code",
   "execution_count": 70,
   "metadata": {},
   "outputs": [
    {
     "data": {
      "text/html": [
       "<div>\n",
       "<style scoped>\n",
       "    .dataframe tbody tr th:only-of-type {\n",
       "        vertical-align: middle;\n",
       "    }\n",
       "\n",
       "    .dataframe tbody tr th {\n",
       "        vertical-align: top;\n",
       "    }\n",
       "\n",
       "    .dataframe thead th {\n",
       "        text-align: right;\n",
       "    }\n",
       "</style>\n",
       "<table border=\"1\" class=\"dataframe\">\n",
       "  <thead>\n",
       "    <tr style=\"text-align: right;\">\n",
       "      <th></th>\n",
       "      <th>Contact info</th>\n",
       "      <th>Objectives</th>\n",
       "      <th>Refrees</th>\n",
       "      <th>Skills</th>\n",
       "      <th>Education</th>\n",
       "      <th>Experience</th>\n",
       "      <th>Job level</th>\n",
       "      <th>Score</th>\n",
       "      <th>Good or bad</th>\n",
       "      <th>Final</th>\n",
       "      <th>Job_Lev</th>\n",
       "    </tr>\n",
       "  </thead>\n",
       "  <tbody>\n",
       "    <tr>\n",
       "      <th>0</th>\n",
       "      <td>Found</td>\n",
       "      <td>Found</td>\n",
       "      <td>Found</td>\n",
       "      <td>Found</td>\n",
       "      <td>Found</td>\n",
       "      <td>0.0</td>\n",
       "      <td>Intern</td>\n",
       "      <td>NaN</td>\n",
       "      <td>Good</td>\n",
       "      <td>1</td>\n",
       "      <td>0</td>\n",
       "    </tr>\n",
       "    <tr>\n",
       "      <th>1</th>\n",
       "      <td>Found</td>\n",
       "      <td>Found</td>\n",
       "      <td>Found</td>\n",
       "      <td>Found</td>\n",
       "      <td>Not Found</td>\n",
       "      <td>0.0</td>\n",
       "      <td>Intern</td>\n",
       "      <td>NaN</td>\n",
       "      <td>Good</td>\n",
       "      <td>1</td>\n",
       "      <td>0</td>\n",
       "    </tr>\n",
       "    <tr>\n",
       "      <th>2</th>\n",
       "      <td>Found</td>\n",
       "      <td>Found</td>\n",
       "      <td>Found</td>\n",
       "      <td>Not Found</td>\n",
       "      <td>Found</td>\n",
       "      <td>0.0</td>\n",
       "      <td>Intern</td>\n",
       "      <td>NaN</td>\n",
       "      <td>Good</td>\n",
       "      <td>1</td>\n",
       "      <td>0</td>\n",
       "    </tr>\n",
       "    <tr>\n",
       "      <th>3</th>\n",
       "      <td>Found</td>\n",
       "      <td>Found</td>\n",
       "      <td>Not found</td>\n",
       "      <td>Not Found</td>\n",
       "      <td>Not Found</td>\n",
       "      <td>0.0</td>\n",
       "      <td>Intern</td>\n",
       "      <td>NaN</td>\n",
       "      <td>Good</td>\n",
       "      <td>1</td>\n",
       "      <td>0</td>\n",
       "    </tr>\n",
       "    <tr>\n",
       "      <th>4</th>\n",
       "      <td>Found</td>\n",
       "      <td>Found</td>\n",
       "      <td>Not found</td>\n",
       "      <td>Found</td>\n",
       "      <td>Found</td>\n",
       "      <td>0.0</td>\n",
       "      <td>Intern</td>\n",
       "      <td>NaN</td>\n",
       "      <td>Good</td>\n",
       "      <td>1</td>\n",
       "      <td>0</td>\n",
       "    </tr>\n",
       "    <tr>\n",
       "      <th>...</th>\n",
       "      <td>...</td>\n",
       "      <td>...</td>\n",
       "      <td>...</td>\n",
       "      <td>...</td>\n",
       "      <td>...</td>\n",
       "      <td>...</td>\n",
       "      <td>...</td>\n",
       "      <td>...</td>\n",
       "      <td>...</td>\n",
       "      <td>...</td>\n",
       "      <td>...</td>\n",
       "    </tr>\n",
       "    <tr>\n",
       "      <th>665</th>\n",
       "      <td>Found</td>\n",
       "      <td>Not found</td>\n",
       "      <td>Not found</td>\n",
       "      <td>Found</td>\n",
       "      <td>Found</td>\n",
       "      <td>1.5</td>\n",
       "      <td>Senior</td>\n",
       "      <td>NaN</td>\n",
       "      <td>Bad</td>\n",
       "      <td>0</td>\n",
       "      <td>3</td>\n",
       "    </tr>\n",
       "    <tr>\n",
       "      <th>666</th>\n",
       "      <td>Found</td>\n",
       "      <td>Not found</td>\n",
       "      <td>Found</td>\n",
       "      <td>Not Found</td>\n",
       "      <td>Not Found</td>\n",
       "      <td>2.0</td>\n",
       "      <td>Senior</td>\n",
       "      <td>NaN</td>\n",
       "      <td>Bad</td>\n",
       "      <td>0</td>\n",
       "      <td>3</td>\n",
       "    </tr>\n",
       "    <tr>\n",
       "      <th>667</th>\n",
       "      <td>Found</td>\n",
       "      <td>Not found</td>\n",
       "      <td>Found</td>\n",
       "      <td>Not Found</td>\n",
       "      <td>Found</td>\n",
       "      <td>2.5</td>\n",
       "      <td>Senior</td>\n",
       "      <td>NaN</td>\n",
       "      <td>Bad</td>\n",
       "      <td>0</td>\n",
       "      <td>3</td>\n",
       "    </tr>\n",
       "    <tr>\n",
       "      <th>668</th>\n",
       "      <td>Found</td>\n",
       "      <td>Not found</td>\n",
       "      <td>Found</td>\n",
       "      <td>Found</td>\n",
       "      <td>Not Found</td>\n",
       "      <td>3.0</td>\n",
       "      <td>Senior</td>\n",
       "      <td>NaN</td>\n",
       "      <td>Bad</td>\n",
       "      <td>0</td>\n",
       "      <td>3</td>\n",
       "    </tr>\n",
       "    <tr>\n",
       "      <th>669</th>\n",
       "      <td>Found</td>\n",
       "      <td>Not found</td>\n",
       "      <td>Not found</td>\n",
       "      <td>Found</td>\n",
       "      <td>Found</td>\n",
       "      <td>3.5</td>\n",
       "      <td>Senior</td>\n",
       "      <td>NaN</td>\n",
       "      <td>Bad</td>\n",
       "      <td>0</td>\n",
       "      <td>3</td>\n",
       "    </tr>\n",
       "  </tbody>\n",
       "</table>\n",
       "<p>670 rows × 11 columns</p>\n",
       "</div>"
      ],
      "text/plain": [
       "    Contact info Objectives    Refrees     Skills  Education  Experience  \\\n",
       "0          Found      Found      Found      Found      Found         0.0   \n",
       "1          Found      Found      Found      Found  Not Found         0.0   \n",
       "2          Found      Found      Found  Not Found      Found         0.0   \n",
       "3          Found      Found  Not found  Not Found  Not Found         0.0   \n",
       "4          Found      Found  Not found      Found      Found         0.0   \n",
       "..           ...        ...        ...        ...        ...         ...   \n",
       "665        Found  Not found  Not found      Found      Found         1.5   \n",
       "666        Found  Not found      Found  Not Found  Not Found         2.0   \n",
       "667        Found  Not found      Found  Not Found      Found         2.5   \n",
       "668        Found  Not found      Found      Found  Not Found         3.0   \n",
       "669        Found  Not found  Not found      Found      Found         3.5   \n",
       "\n",
       "    Job level  Score Good or bad  Final  Job_Lev  \n",
       "0      Intern    NaN        Good      1        0  \n",
       "1      Intern    NaN        Good      1        0  \n",
       "2      Intern    NaN        Good      1        0  \n",
       "3      Intern    NaN        Good      1        0  \n",
       "4      Intern    NaN        Good      1        0  \n",
       "..        ...    ...         ...    ...      ...  \n",
       "665    Senior    NaN         Bad      0        3  \n",
       "666    Senior    NaN         Bad      0        3  \n",
       "667    Senior    NaN         Bad      0        3  \n",
       "668    Senior    NaN         Bad      0        3  \n",
       "669    Senior    NaN         Bad      0        3  \n",
       "\n",
       "[670 rows x 11 columns]"
      ]
     },
     "execution_count": 70,
     "metadata": {},
     "output_type": "execute_result"
    }
   ],
   "source": [
    "df"
   ]
  },
  {
   "cell_type": "code",
   "execution_count": 71,
   "metadata": {},
   "outputs": [
    {
     "data": {
      "text/plain": [
       "<bound method DataFrame.info of     Contact info Objectives    Refrees     Skills  Education  Experience  \\\n",
       "0          Found      Found      Found      Found      Found         0.0   \n",
       "1          Found      Found      Found      Found  Not Found         0.0   \n",
       "2          Found      Found      Found  Not Found      Found         0.0   \n",
       "3          Found      Found  Not found  Not Found  Not Found         0.0   \n",
       "4          Found      Found  Not found      Found      Found         0.0   \n",
       "..           ...        ...        ...        ...        ...         ...   \n",
       "665        Found  Not found  Not found      Found      Found         1.5   \n",
       "666        Found  Not found      Found  Not Found  Not Found         2.0   \n",
       "667        Found  Not found      Found  Not Found      Found         2.5   \n",
       "668        Found  Not found      Found      Found  Not Found         3.0   \n",
       "669        Found  Not found  Not found      Found      Found         3.5   \n",
       "\n",
       "    Job level  Score Good or bad  Final  Job_Lev  \n",
       "0      Intern    NaN        Good      1        0  \n",
       "1      Intern    NaN        Good      1        0  \n",
       "2      Intern    NaN        Good      1        0  \n",
       "3      Intern    NaN        Good      1        0  \n",
       "4      Intern    NaN        Good      1        0  \n",
       "..        ...    ...         ...    ...      ...  \n",
       "665    Senior    NaN         Bad      0        3  \n",
       "666    Senior    NaN         Bad      0        3  \n",
       "667    Senior    NaN         Bad      0        3  \n",
       "668    Senior    NaN         Bad      0        3  \n",
       "669    Senior    NaN         Bad      0        3  \n",
       "\n",
       "[670 rows x 11 columns]>"
      ]
     },
     "execution_count": 71,
     "metadata": {},
     "output_type": "execute_result"
    }
   ],
   "source": [
    "df.info"
   ]
  },
  {
   "cell_type": "code",
   "execution_count": 72,
   "metadata": {},
   "outputs": [
    {
     "data": {
      "text/plain": [
       "Contact info     object\n",
       "Objectives       object\n",
       "Refrees          object\n",
       "Skills           object\n",
       "Education        object\n",
       "Experience      float64\n",
       "Job level        object\n",
       "Score           float64\n",
       "Good or bad      object\n",
       "Final             int64\n",
       "Job_Lev           int64\n",
       "dtype: object"
      ]
     },
     "execution_count": 72,
     "metadata": {},
     "output_type": "execute_result"
    }
   ],
   "source": [
    "df.dtypes"
   ]
  },
  {
   "cell_type": "code",
   "execution_count": 73,
   "metadata": {},
   "outputs": [
    {
     "name": "stdout",
     "output_type": "stream",
     "text": [
      "Contact info      0\n",
      "Objectives        0\n",
      "Refrees           0\n",
      "Skills            0\n",
      "Education         0\n",
      "Experience        0\n",
      "Job level         0\n",
      "Score           670\n",
      "Good or bad       0\n",
      "Final             0\n",
      "Job_Lev           0\n",
      "dtype: int64\n"
     ]
    }
   ],
   "source": [
    "# Check for null values in each column\n",
    "null_values_per_column = df.isnull().sum()\n",
    "\n",
    "# Display the null values in each column\n",
    "print(null_values_per_column)"
   ]
  },
  {
   "cell_type": "code",
   "execution_count": 74,
   "metadata": {},
   "outputs": [],
   "source": [
    "# Shuffle the rows\n",
    "shuffled_df = df.sample(frac=1, random_state=42)\n",
    "\n",
    "# Reset the index of the shuffled DataFrame\n",
    "shuffled_df.reset_index(drop=True, inplace=True)"
   ]
  },
  {
   "cell_type": "code",
   "execution_count": 75,
   "metadata": {},
   "outputs": [
    {
     "data": {
      "image/png": "[encoded data removed]",
      "text/plain": [
       "<Figure size 800x800 with 1 Axes>"
      ]
     },
     "metadata": {},
     "output_type": "display_data"
    }
   ],
   "source": [
    "# Specify the column you want to visualize in the pie chart\n",
    "column_to_plot = 'Good or bad'\n",
    "\n",
    "# Count the occurrences of unique values in the specified column\n",
    "value_counts = df[column_to_plot].value_counts()\n",
    "\n",
    "# Create a pie chart\n",
    "plt.figure(figsize=(8, 8))  # Adjust the figure size as needed\n",
    "plt.pie(value_counts, labels=value_counts.index, autopct='%1.1f%%', startangle=140)\n",
    "plt.title(f'Distribution of {column_to_plot}')\n",
    "\n",
    "# Show the pie chart\n",
    "plt.show()"
   ]
  },
  {
   "cell_type": "code",
   "execution_count": 76,
   "metadata": {},
   "outputs": [],
   "source": [
    "from sklearn.model_selection import train_test_split\n",
    "\n",
    "# Specify the features (X) and the target (y) column\n",
    "X = df[['Experience', 'Job_Lev']]  # Replace 'target_column_name' with the actual column name\n",
    "y = df['Final']\n",
    "\n",
    "# Split the data into training and testing sets (e.g., 80% for training, 20% for testing)\n",
    "X_train, X_test, y_train, y_test = train_test_split(X, y, test_size=0.2, random_state=42)"
   ]
  },
  {
   "cell_type": "code",
   "execution_count": 79,
   "metadata": {},
   "outputs": [
    {
     "name": "stdout",
     "output_type": "stream",
     "text": [
      "Epoch 1/10\n",
      "17/17 [==============================] - 4s 39ms/step - loss: 0.7417 - accuracy: 0.4310 - val_loss: 0.6506 - val_accuracy: 0.7239\n",
      "Epoch 2/10\n",
      "17/17 [==============================] - 0s 5ms/step - loss: 0.6582 - accuracy: 0.6213 - val_loss: 0.6058 - val_accuracy: 0.7239\n",
      "Epoch 3/10\n",
      "17/17 [==============================] - 0s 7ms/step - loss: 0.6295 - accuracy: 0.6213 - val_loss: 0.5792 - val_accuracy: 0.7239\n",
      "Epoch 4/10\n",
      "17/17 [==============================] - 0s 6ms/step - loss: 0.6080 - accuracy: 0.6287 - val_loss: 0.5631 - val_accuracy: 0.7612\n",
      "Epoch 5/10\n",
      "17/17 [==============================] - 0s 4ms/step - loss: 0.5866 - accuracy: 0.6772 - val_loss: 0.5349 - val_accuracy: 0.7910\n",
      "Epoch 6/10\n",
      "17/17 [==============================] - 0s 5ms/step - loss: 0.5661 - accuracy: 0.7276 - val_loss: 0.5125 - val_accuracy: 0.8134\n",
      "Epoch 7/10\n",
      "17/17 [==============================] - 0s 5ms/step - loss: 0.5440 - accuracy: 0.7705 - val_loss: 0.4928 - val_accuracy: 0.8582\n",
      "Epoch 8/10\n",
      "17/17 [==============================] - 0s 7ms/step - loss: 0.5221 - accuracy: 0.8078 - val_loss: 0.4755 - val_accuracy: 0.8507\n",
      "Epoch 9/10\n",
      "17/17 [==============================] - 0s 6ms/step - loss: 0.5015 - accuracy: 0.8377 - val_loss: 0.4499 - val_accuracy: 0.8806\n",
      "Epoch 10/10\n",
      "17/17 [==============================] - 0s 7ms/step - loss: 0.4818 - accuracy: 0.8284 - val_loss: 0.4399 - val_accuracy: 0.8657\n"
     ]
    }
   ],
   "source": [
    "import tensorflow as tf\n",
    "from tensorflow import keras\n",
    "from tensorflow.keras import layers\n",
    "\n",
    "# Define a Sequential model\n",
    "model = keras.Sequential()\n",
    "\n",
    "# Add input layer\n",
    "model.add(layers.Input(shape=(2,)))  # 2 feature variables\n",
    "\n",
    "# Add one or more hidden layers (customize these as needed)\n",
    "model.add(layers.Dense(64, activation='relu'))\n",
    "model.add(layers.Dense(32, activation='relu'))\n",
    "\n",
    "num_classes = 2\n",
    "# Add output layer with the appropriate number of classes (replace 'num_classes')\n",
    "model.add(layers.Dense(num_classes, activation='softmax'))\n",
    "\n",
    "# Compile the model\n",
    "model.compile(optimizer='adam', loss='sparse_categorical_crossentropy', metrics=['accuracy'])\n",
    "\n",
    "# Train the model\n",
    "history = model.fit(X_train, y_train, validation_data=(X_test, y_test), epochs=10, batch_size=32)"
   ]
  },
  {
   "cell_type": "code",
   "execution_count": 80,
   "metadata": {},
   "outputs": [
    {
     "name": "stdout",
     "output_type": "stream",
     "text": [
      "5/5 [==============================] - 0s 1ms/step - loss: 0.4399 - accuracy: 0.8657\n",
      "Test Accuracy: 0.8656716346740723\n",
      "Test Loss: 0.43985143303871155\n"
     ]
    },
    {
     "data": {
      "image/png": "[encoded data removed]",
      "text/plain": [
       "<Figure size 1200x400 with 2 Axes>"
      ]
     },
     "metadata": {},
     "output_type": "display_data"
    }
   ],
   "source": [
    "# Evaluate the model on the test data\n",
    "test_loss, test_accuracy = model.evaluate(X_test, y_test)\n",
    "print(f\"Test Accuracy: {test_accuracy}\")\n",
    "print(f\"Test Loss: {test_loss}\")\n",
    "\n",
    "# Plot training and validation accuracy and loss\n",
    "import matplotlib.pyplot as plt\n",
    "\n",
    "plt.figure(figsize=(12, 4))\n",
    "\n",
    "# Plot training & validation accuracy values\n",
    "plt.subplot(1, 2, 1)\n",
    "plt.plot(history.history['accuracy'])\n",
    "plt.plot(history.history['val_accuracy'])\n",
    "plt.title('Model accuracy')\n",
    "plt.ylabel('Accuracy')\n",
    "plt.xlabel('Epoch')\n",
    "plt.legend(['Train', 'Validation'], loc='upper left')\n",
    "\n",
    "# Plot training & validation loss values\n",
    "plt.subplot(1, 2, 2)\n",
    "plt.plot(history.history['loss'])\n",
    "plt.plot(history.history['val_loss'])\n",
    "plt.title('Model loss')\n",
    "plt.ylabel('Loss')\n",
    "plt.xlabel('Epoch')\n",
    "plt.legend(['Train', 'Validation'], loc='upper left')\n",
    "\n",
    "plt.tight_layout()\n",
    "plt.show()"
   ]
  },
  {
   "cell_type": "code",
   "execution_count": 81,
   "metadata": {},
   "outputs": [
    {
     "name": "stderr",
     "output_type": "stream",
     "text": [
      "f:\\Python projects\\charya\\Lib\\site-packages\\keras\\src\\engine\\training.py:3079: UserWarning: You are saving your model as an HDF5 file via `model.save()`. This file format is considered legacy. We recommend using instead the native Keras format, e.g. `model.save('my_model.keras')`.\n",
      "  saving_api.save_model(\n"
     ]
    }
   ],
   "source": [
    "from tensorflow import keras\n",
    "\n",
    "# Assuming 'model' is your Keras neural network model\n",
    "model.save('Reviewer.h5')"
   ]
  }
 ],
 "metadata": {
  "kernelspec": {
   "display_name": "charya",
   "language": "python",
   "name": "python3"
  },
  "language_info": {
   "codemirror_mode": {
    "name": "ipython",
    "version": 3
   },
   "file_extension": ".py",
   "mimetype": "text/x-python",
   "name": "python",
   "nbconvert_exporter": "python",
   "pygments_lexer": "ipython3",
   "version": "3.11.4"
  }
 },
 "nbformat": 4,
 "nbformat_minor": 2
}
